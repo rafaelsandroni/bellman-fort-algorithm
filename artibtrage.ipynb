{
 "cells": [
  {
   "cell_type": "code",
   "execution_count": 16,
   "metadata": {
    "collapsed": true
   },
   "outputs": [],
   "source": [
    "import requests, json, math, re"
   ]
  },
  {
   "cell_type": "code",
   "execution_count": 29,
   "metadata": {},
   "outputs": [
    {
     "data": {
      "text/plain": [
       "{b'BNB': {b'BTC': 6.281709901962928, b'ETH': 3.723967916786431},\n",
       " b'BTC': {b'BNB': -6.281705841954686, b'ETH': -2.5580796611925813},\n",
       " b'ETH': {b'BNB': -3.723763855967438, b'BTC': 2.5580968893409852}}"
      ]
     },
     "execution_count": 29,
     "metadata": {},
     "output_type": "execute_result"
    }
   ],
   "source": [
    "download()"
   ]
  },
  {
   "cell_type": "code",
   "execution_count": 28,
   "metadata": {},
   "outputs": [],
   "source": [
    "binance = {\n",
    " 'BTC_BTC': '1',\n",
    " 'BTC_BNB': '534.7',\n",
    " 'BTC_ETH': '12.911',\n",
    " 'BNB_BTC': '0.0018702',\n",
    " 'BNB_BNB': '1',\n",
    " 'BNB_ETH': '0.024138',\n",
    " 'ETH_BTC': '0.077452',\n",
    " 'ETH_BNB': '41.42',\n",
    " 'ETH_ETH': '1',\n",
    "}"
   ]
  },
  {
   "cell_type": "code",
   "execution_count": 43,
   "metadata": {
    "collapsed": true
   },
   "outputs": [],
   "source": [
    "def getRates():\n",
    "    url = 'http://fx.priceonomics.com/v1/rates/?q=1'\n",
    "    response = requests.get(url)\n",
    "    rates = response.json()    \n",
    "    return rates\n",
    "\n",
    "def download():\n",
    "    graph = {}\n",
    "    rates = getRates()\n",
    "    pattern = re.compile(\"([A-Z]{3})_([A-Z]{3})\")\n",
    "    for key in rates:\n",
    "        matches = pattern.match(key)\n",
    "        conversion_rate = -math.log(float(rates[key]))\n",
    "        from_rate = matches.group(1).encode('ascii','ignore')\n",
    "        to_rate = matches.group(2).encode('ascii','ignore')\n",
    "        if from_rate != to_rate:\n",
    "            if from_rate not in graph:\n",
    "                graph[from_rate] = {}\n",
    "            graph[from_rate][to_rate] = float(conversion_rate)\n",
    "    return graph"
   ]
  },
  {
   "cell_type": "code",
   "execution_count": 44,
   "metadata": {
    "collapsed": true
   },
   "outputs": [],
   "source": [
    "\n",
    "def initialize(graph, source):\n",
    "    destination = {}\n",
    "    predecessor = {}\n",
    "    for node in graph:\n",
    "        destination[node] = float('Inf')\n",
    "        predecessor[node] = None\n",
    "    destination[source] = 0\n",
    "    return destination, predecessor\n",
    "\n",
    "\n",
    "def relax(node, neighbour, graph, destination, predecessor):\n",
    "    if destination[neighbour] > destination[node] + graph[node][neighbour]:\n",
    "        destination[neighbour] = destination[node] + graph[node][neighbour]\n",
    "        predecessor[neighbour] = node\n",
    "\n",
    "def retrace_negative_loop(p, start):\n",
    "    arbitrageLoop = [start]\n",
    "    next_node = start\n",
    "    while True:\n",
    "        try:\n",
    "            next_node = p[next_node]\n",
    "            if next_node not in arbitrageLoop:\n",
    "                arbitrageLoop.append(next_node)\n",
    "            else:\n",
    "                arbitrageLoop.append(next_node)\n",
    "                arbitrageLoop = arbitrageLoop[arbitrageLoop.index(next_node):]\n",
    "                return arbitrageLoop\n",
    "        except:\n",
    "            return arbitrageLoop\n",
    "\n",
    "def bellman_ford(graph, source):\n",
    "    destination, predecessor = initialize(graph, source)\n",
    "    for i in range(len(graph)-1):\n",
    "        for u in graph:\n",
    "            for v in graph[u]:\n",
    "                relax(u, v, graph, destination, predecessor)\n",
    "\n",
    "    for u in graph:\n",
    "        for v in graph[u]:\n",
    "            return(retrace_negative_loop(predecessor, source))\n",
    "\n",
    "    return None"
   ]
  },
  {
   "cell_type": "code",
   "execution_count": 45,
   "metadata": {},
   "outputs": [
    {
     "name": "stdout",
     "output_type": "stream",
     "text": [
      "X =   100  in  b'USD'\n",
      "(start)  b'USD'  to (end) b'EUR'  at (rate) 0.8005527  = ( b'USD' ) 80.05527000000001\n",
      "(start)  b'EUR'  to (end) b'USD'  at (rate) 1.4609771  = ( b'USD' ) 116.958916204317\n",
      "X =   100  in  b'EUR'\n",
      "(start)  b'EUR'  to (end) b'USD'  at (rate) 1.4609771  = ( b'EUR' ) 146.09771\n",
      "(start)  b'USD'  to (end) b'EUR'  at (rate) 0.8005527  = ( b'EUR' ) 116.958916204317\n",
      "\n",
      "\n"
     ]
    }
   ],
   "source": [
    "\n",
    "paths = []\n",
    "\n",
    "graph = download()\n",
    "\n",
    "for key in graph:\n",
    "    path = bellman_ford(graph, key)\n",
    "    if path not in paths and not None:\n",
    "        paths.append(path)\n",
    "\n",
    "    \n",
    "for path in paths:\n",
    "    if path == None:\n",
    "        print(\"No opportunity here :(\")\n",
    "    else:\n",
    "        X = 100\n",
    "        print(\"X =  \",X,\" in \",path[0])\n",
    "\n",
    "        for i,value in enumerate(path):\n",
    "            if i+1 < len(path):\n",
    "                start = path[i]\n",
    "                end = path[i+1]\n",
    "                rate = math.exp(-graph[start][end])\n",
    "                X *= rate\n",
    "                print(\"(start) \", start, \" to (end)\",end,\" at (rate)\",rate,\" = (\",path[0],\")\",X)                \n",
    "print(\"\\n\")"
   ]
  },
  {
   "cell_type": "code",
   "execution_count": null,
   "metadata": {
    "collapsed": true
   },
   "outputs": [],
   "source": []
  },
  {
   "cell_type": "code",
   "execution_count": null,
   "metadata": {
    "collapsed": true
   },
   "outputs": [],
   "source": []
  },
  {
   "cell_type": "code",
   "execution_count": null,
   "metadata": {
    "collapsed": true
   },
   "outputs": [],
   "source": []
  }
 ],
 "metadata": {
  "kernelspec": {
   "display_name": "Python 3",
   "language": "python",
   "name": "python3"
  },
  "language_info": {
   "codemirror_mode": {
    "name": "ipython",
    "version": 3
   },
   "file_extension": ".py",
   "mimetype": "text/x-python",
   "name": "python",
   "nbconvert_exporter": "python",
   "pygments_lexer": "ipython3",
   "version": "3.6.1"
  }
 },
 "nbformat": 4,
 "nbformat_minor": 2
}
